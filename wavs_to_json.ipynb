{
 "cells": [
  {
   "cell_type": "code",
   "execution_count": 1,
   "id": "b9326ad9",
   "metadata": {},
   "outputs": [],
   "source": [
    "import numpy as np \n",
    "import pandas as pd \n",
    "import librosa as lb \n",
    "import librosa.display\n",
    "import json\n",
    "from pathlib import Path"
   ]
  },
  {
   "cell_type": "code",
   "execution_count": 2,
   "id": "97f869c3",
   "metadata": {},
   "outputs": [],
   "source": [
    "mfcc_data = {\n",
    "    \"genres\" : [],\n",
    "    \"labels\" : [],\n",
    "    \"mfccs\" : []\n",
    "}"
   ]
  },
  {
   "cell_type": "code",
   "execution_count": 3,
   "id": "c600c24f",
   "metadata": {},
   "outputs": [],
   "source": [
    "p = Path(\"genres_original\")\n",
    "genres = [x for x in p.iterdir()]\n",
    "counter = 0\n",
    "for genre in genres:\n",
    "    mfcc_data[\"genres\"].append(genre.name)\n",
    "    current_label = counter\n",
    "    for file in genre.iterdir():\n",
    "        data, sampleRate = lb.load(file,duration=20.0)\n",
    "        mfcc = librosa.feature.mfcc(y=data, sr=sampleRate)\n",
    "        mfcc_data[\"mfccs\"].append(mfcc.tolist())\n",
    "        mfcc_data[\"labels\"].append(current_label)\n",
    "        \n",
    "    counter += 1"
   ]
  },
  {
   "cell_type": "code",
   "execution_count": 4,
   "id": "40d7c6a7",
   "metadata": {},
   "outputs": [],
   "source": [
    "mfcc_json = json.dumps(mfcc_data,indent=4)\n",
    "with open(\"mfcc_data_20s.json\", \"w\") as outfile:\n",
    "    outfile.write(mfcc_json)"
   ]
  },
  {
   "cell_type": "code",
   "execution_count": null,
   "id": "15bfe5ba",
   "metadata": {},
   "outputs": [],
   "source": []
  }
 ],
 "metadata": {
  "kernelspec": {
   "display_name": "Python 3 (ipykernel)",
   "language": "python",
   "name": "python3"
  },
  "language_info": {
   "codemirror_mode": {
    "name": "ipython",
    "version": 3
   },
   "file_extension": ".py",
   "mimetype": "text/x-python",
   "name": "python",
   "nbconvert_exporter": "python",
   "pygments_lexer": "ipython3",
   "version": "3.10.1"
  }
 },
 "nbformat": 4,
 "nbformat_minor": 5
}
