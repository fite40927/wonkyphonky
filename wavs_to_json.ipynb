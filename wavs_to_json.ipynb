{
 "cells": [
  {
   "cell_type": "code",
   "execution_count": 1,
   "id": "b9326ad9",
   "metadata": {},
   "outputs": [],
   "source": [
    "import numpy as np \n",
    "import pandas as pd \n",
    "import librosa as lb \n",
    "import librosa.display\n",
    "import json\n",
    "from pathlib import Path"
   ]
  },
  {
   "cell_type": "code",
   "execution_count": 2,
   "id": "97f869c3",
   "metadata": {},
   "outputs": [],
   "source": [
    "mfcc_data = {\n",
    "    \"genres\" : [],\n",
    "    \"labels\" : [],\n",
    "    \"mfccs\" : []\n",
    "}"
   ]
  },
  {
   "cell_type": "code",
   "execution_count": 3,
   "id": "c600c24f",
   "metadata": {},
   "outputs": [
    {
     "name": "stdout",
     "output_type": "stream",
     "text": [
      "genres_original\\classical\\classical.00042.wav\n",
      "genres_original\\classical\\classical.00045.wav\n",
      "genres_original\\classical\\classical.00048.wav\n",
      "genres_original\\classical\\classical.00049.wav\n",
      "genres_original\\classical\\classical.00051.wav\n",
      "genres_original\\classical\\classical.00053.wav\n",
      "genres_original\\classical\\classical.00054.wav\n",
      "genres_original\\classical\\classical.00056.wav\n",
      "genres_original\\country\\country.00000.wav\n",
      "genres_original\\country\\country.00002.wav\n",
      "genres_original\\country\\country.00003.wav\n",
      "genres_original\\country\\country.00004.wav\n",
      "genres_original\\country\\country.00005.wav\n",
      "genres_original\\country\\country.00006.wav\n",
      "genres_original\\country\\country.00007.wav\n",
      "genres_original\\country\\country.00008.wav\n",
      "genres_original\\country\\country.00009.wav\n",
      "genres_original\\disco\\disco.00000.wav\n",
      "genres_original\\disco\\disco.00001.wav\n",
      "genres_original\\disco\\disco.00003.wav\n",
      "genres_original\\disco\\disco.00005.wav\n",
      "genres_original\\disco\\disco.00008.wav\n",
      "genres_original\\disco\\disco.00012.wav\n",
      "genres_original\\disco\\disco.00014.wav\n",
      "genres_original\\disco\\disco.00016.wav\n",
      "genres_original\\hiphop\\hiphop.00026.wav\n",
      "genres_original\\hiphop\\hiphop.00027.wav\n",
      "genres_original\\hiphop\\hiphop.00029.wav\n",
      "genres_original\\hiphop\\hiphop.00031.wav\n",
      "genres_original\\hiphop\\hiphop.00032.wav\n",
      "genres_original\\hiphop\\hiphop.00033.wav\n",
      "genres_original\\hiphop\\hiphop.00034.wav\n",
      "genres_original\\hiphop\\hiphop.00035.wav\n",
      "genres_original\\hiphop\\hiphop.00036.wav\n",
      "genres_original\\hiphop\\hiphop.00037.wav\n",
      "genres_original\\hiphop\\hiphop.00038.wav\n",
      "genres_original\\hiphop\\hiphop.00039.wav\n",
      "genres_original\\hiphop\\hiphop.00040.wav\n",
      "genres_original\\hiphop\\hiphop.00041.wav\n",
      "genres_original\\hiphop\\hiphop.00042.wav\n",
      "genres_original\\hiphop\\hiphop.00043.wav\n",
      "genres_original\\hiphop\\hiphop.00044.wav\n",
      "genres_original\\hiphop\\hiphop.00045.wav\n",
      "genres_original\\jazz\\jazz.00050.wav\n",
      "genres_original\\jazz\\jazz.00052.wav\n",
      "genres_original\\jazz\\jazz.00056.wav\n",
      "genres_original\\jazz\\jazz.00059.wav\n",
      "genres_original\\jazz\\jazz.00061.wav\n",
      "genres_original\\jazz\\jazz.00063.wav\n",
      "genres_original\\jazz\\jazz.00066.wav\n",
      "genres_original\\rock\\rock.00027.wav\n",
      "genres_original\\rock\\rock.00032.wav\n",
      "genres_original\\rock\\rock.00034.wav\n",
      "genres_original\\rock\\rock.00036.wav\n",
      "genres_original\\rock\\rock.00038.wav\n"
     ]
    }
   ],
   "source": [
    "p = Path(\"genres_original\")\n",
    "genres = [x for x in p.iterdir()]\n",
    "counter = 0\n",
    "for genre in genres:\n",
    "    mfcc_data[\"genres\"].append(genre.name)\n",
    "    current_label = counter\n",
    "    for file in genre.iterdir():\n",
    "        data, sampleRate = lb.load(file)\n",
    "        mfcc = librosa.feature.mfcc(y=data, sr=sampleRate)\n",
    "\n",
    "#         mfcc_data.loc[file,\"mfcc\"] = mfcc\n",
    "#         mfcc_data.loc[file,\"genre\"] = current_label\n",
    "        if mfcc.shape[1] != 1293:\n",
    "            print(file)\n",
    "        else:\n",
    "            mfcc_data[\"mfccs\"].append(mfcc.tolist())\n",
    "            mfcc_data[\"labels\"].append(current_label)\n",
    "        \n",
    "    counter += 1"
   ]
  },
  {
   "cell_type": "code",
   "execution_count": 5,
   "id": "40d7c6a7",
   "metadata": {},
   "outputs": [],
   "source": [
    "mfcc_json = json.dumps(mfcc_data,indent=4)\n",
    "with open(\"mfcc_data.json\", \"w\") as outfile:\n",
    "    outfile.write(mfcc_json)"
   ]
  },
  {
   "cell_type": "code",
   "execution_count": null,
   "id": "15bfe5ba",
   "metadata": {},
   "outputs": [],
   "source": []
  }
 ],
 "metadata": {
  "kernelspec": {
   "display_name": "Python 3 (ipykernel)",
   "language": "python",
   "name": "python3"
  },
  "language_info": {
   "codemirror_mode": {
    "name": "ipython",
    "version": 3
   },
   "file_extension": ".py",
   "mimetype": "text/x-python",
   "name": "python",
   "nbconvert_exporter": "python",
   "pygments_lexer": "ipython3",
   "version": "3.10.1"
  }
 },
 "nbformat": 4,
 "nbformat_minor": 5
}
