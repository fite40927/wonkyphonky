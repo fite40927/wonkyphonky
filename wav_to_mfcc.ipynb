{
 "cells": [
  {
   "cell_type": "code",
   "execution_count": 40,
   "id": "08611f4c",
   "metadata": {},
   "outputs": [],
   "source": [
    "import numpy as np \n",
    "import pandas as pd \n",
    "import librosa as lb \n",
    "import librosa.display \n",
    "import matplotlib.pyplot as plt\n",
    "import os\n",
    "import json"
   ]
  },
  {
   "cell_type": "code",
   "execution_count": null,
   "id": "116ae658",
   "metadata": {},
   "outputs": [],
   "source": [
    "mfcc_data = {\n",
    "    \"mapping\": [\n",
    "        # Genres\n",
    "    ],\n",
    "    \"labels\": [\n",
    "        # genre labels\n",
    "    ], \"mfcc\": [\n",
    "        # All the 2D mfcc arrays\n",
    "    ]\n",
    "}"
   ]
  },
  {
   "cell_type": "code",
   "execution_count": null,
   "id": "71a00521",
   "metadata": {},
   "outputs": [],
   "source": [
    "genres = [x for x in p.iterdir()]\n",
    "counter = 0\n",
    "for genre in genres:\n",
    "    current_label = counter\n",
    "    mfcc_data[\"mapping\"].append(genre.name)\n",
    "    for file in genre.iterdir():\n",
    "        data, sampleRate = lb.load(file)\n",
    "        mfcc = librosa.feature.mfcc(y=data, sr=sampleRate)\n",
    "\n",
    "        mfcc_data[\"mfcc\"].append(mfcc)\n",
    "        mfcc_data[\"labels\"].append(current_label)\n",
    "        \n",
    "    counter += 1"
   ]
  },
  {
   "cell_type": "code",
   "execution_count": null,
   "id": "74bbffb6",
   "metadata": {},
   "outputs": [],
   "source": [
    "output_json = json.dumps(mfcc_data, indent=4)\n",
    "with open(\"mfcc_data.json\", \"w\") as outfile:\n",
    "    outfile.write(output_json)"
   ]
  },
  {
   "cell_type": "markdown",
   "id": "1cda8214",
   "metadata": {},
   "source": []
  }
 ],
 "metadata": {
  "kernelspec": {
   "display_name": "Python 3 (ipykernel)",
   "language": "python",
   "name": "python3"
  },
  "language_info": {
   "codemirror_mode": {
    "name": "ipython",
    "version": 3
   },
   "file_extension": ".py",
   "mimetype": "text/x-python",
   "name": "python",
   "nbconvert_exporter": "python",
   "pygments_lexer": "ipython3",
   "version": "3.10.1"
  }
 },
 "nbformat": 4,
 "nbformat_minor": 5
}
