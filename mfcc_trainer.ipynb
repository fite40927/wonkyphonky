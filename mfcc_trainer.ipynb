{
 "cells": [
  {
   "cell_type": "code",
   "execution_count": 1,
   "id": "08611f4c",
   "metadata": {},
   "outputs": [],
   "source": [
    "import json\n",
    "import numpy as np\n",
    "from sklearn.model_selection import train_test_split\n",
    "from sklearn import metrics\n",
    "import tensorflow.keras as keras\n",
    "import matplotlib.pyplot as plt\n",
    "from keras import callbacks\n",
    "\n",
    "# path to json file that stores MFCCs and genre labels for each processed segment\n",
    "DATA_PATH = \"mfcc_data_20s.json\"\n",
    "\n",
    "def load_data(data_path):\n",
    "    \"\"\"Loads training dataset from json file.\n",
    "\n",
    "        :param data_path (str): Path to json file containing data\n",
    "        :return X (ndarray): Inputs\n",
    "        :return y (ndarray): Targets\n",
    "    \"\"\"\n",
    "\n",
    "    with open(data_path, \"r\") as fp:\n",
    "        data = json.load(fp)\n",
    "\n",
    "    # convert lists to numpy arrays\n",
    "    X = np.array(data[\"mfccs\"])\n",
    "    y = np.array(data[\"labels\"])\n",
    "    genres = data[\"genres\"]\n",
    "\n",
    "    print(\"Data succesfully loaded!\")\n",
    "\n",
    "    return  X, y, genres"
   ]
  },
  {
   "cell_type": "code",
   "execution_count": 2,
   "id": "05997272",
   "metadata": {},
   "outputs": [
    {
     "name": "stdout",
     "output_type": "stream",
     "text": [
      "Data succesfully loaded!\n"
     ]
    }
   ],
   "source": [
    "# load data\n",
    "X, y, genres = load_data(DATA_PATH)"
   ]
  },
  {
   "cell_type": "code",
   "execution_count": 71,
   "id": "23e03ae8",
   "metadata": {},
   "outputs": [],
   "source": [
    "# create train/test split\n",
    "X_train, X_test, y_train, y_test = train_test_split(X, y, test_size=0.2)"
   ]
  },
  {
   "cell_type": "code",
   "execution_count": 75,
   "id": "f582d7d6",
   "metadata": {},
   "outputs": [
    {
     "name": "stdout",
     "output_type": "stream",
     "text": [
      "Model: \"sequential_12\"\n",
      "_________________________________________________________________\n",
      " Layer (type)                Output Shape              Param #   \n",
      "=================================================================\n",
      " flatten_12 (Flatten)        (None, 17240)             0         \n",
      "                                                                 \n",
      " dense_48 (Dense)            (None, 512)               8827392   \n",
      "                                                                 \n",
      " dense_49 (Dense)            (None, 256)               131328    \n",
      "                                                                 \n",
      " dense_50 (Dense)            (None, 64)                16448     \n",
      "                                                                 \n",
      " dense_51 (Dense)            (None, 10)                650       \n",
      "                                                                 \n",
      "=================================================================\n",
      "Total params: 8,975,818\n",
      "Trainable params: 8,975,818\n",
      "Non-trainable params: 0\n",
      "_________________________________________________________________\n"
     ]
    }
   ],
   "source": [
    "# build network topology\n",
    "model = keras.Sequential([\n",
    "\n",
    "    # input layer\n",
    "    keras.layers.Flatten(input_shape=(X.shape[1], X.shape[2])),\n",
    "\n",
    "    # 1st dense layer\n",
    "    keras.layers.Dense(512, activation='relu'),\n",
    "\n",
    "    # 2nd dense layer\n",
    "    keras.layers.Dense(256, activation='relu'),\n",
    "\n",
    "    # 3rd dense layer\n",
    "    keras.layers.Dense(64, activation='relu'),\n",
    "\n",
    "    # output layer\n",
    "    keras.layers.Dense(len(genres), activation='softmax')\n",
    "])\n",
    "\n",
    "# compile model\n",
    "optimiser = keras.optimizers.Adam(learning_rate=0.0001)\n",
    "model.compile(optimizer=optimiser,\n",
    "              loss='sparse_categorical_crossentropy',\n",
    "              metrics=['accuracy'])\n",
    "\n",
    "model.summary()"
   ]
  },
  {
   "cell_type": "code",
   "execution_count": 76,
   "id": "008dbbd1",
   "metadata": {},
   "outputs": [
    {
     "name": "stdout",
     "output_type": "stream",
     "text": [
      "Epoch 1/25\n",
      "13/13 [==============================] - 2s 103ms/step - loss: 33.6232 - accuracy: 0.1990 - val_loss: 17.4283 - val_accuracy: 0.2950\n",
      "Epoch 2/25\n",
      "13/13 [==============================] - 1s 93ms/step - loss: 10.6778 - accuracy: 0.3980 - val_loss: 9.4204 - val_accuracy: 0.3900\n",
      "Epoch 3/25\n",
      "13/13 [==============================] - 1s 95ms/step - loss: 5.4714 - accuracy: 0.5332 - val_loss: 7.9106 - val_accuracy: 0.3950\n",
      "Epoch 4/25\n",
      "13/13 [==============================] - 1s 94ms/step - loss: 3.1223 - accuracy: 0.6283 - val_loss: 6.8338 - val_accuracy: 0.4100\n",
      "Epoch 5/25\n",
      "13/13 [==============================] - 1s 95ms/step - loss: 1.7024 - accuracy: 0.7672 - val_loss: 5.7710 - val_accuracy: 0.4550\n",
      "Epoch 6/25\n",
      "13/13 [==============================] - 1s 95ms/step - loss: 0.9806 - accuracy: 0.8260 - val_loss: 5.8692 - val_accuracy: 0.4350\n",
      "Epoch 7/25\n",
      "13/13 [==============================] - 1s 97ms/step - loss: 0.4980 - accuracy: 0.8748 - val_loss: 4.6987 - val_accuracy: 0.4600\n",
      "Epoch 8/25\n",
      "13/13 [==============================] - 1s 96ms/step - loss: 0.5291 - accuracy: 0.8849 - val_loss: 6.7300 - val_accuracy: 0.4000\n",
      "Epoch 9/25\n",
      "13/13 [==============================] - 1s 98ms/step - loss: 0.5236 - accuracy: 0.9011 - val_loss: 6.0967 - val_accuracy: 0.4950\n",
      "Epoch 10/25\n",
      "13/13 [==============================] - 1s 93ms/step - loss: 0.2219 - accuracy: 0.9424 - val_loss: 6.3386 - val_accuracy: 0.4650\n",
      "Epoch 11/25\n",
      "13/13 [==============================] - 1s 96ms/step - loss: 0.1221 - accuracy: 0.9700 - val_loss: 5.2393 - val_accuracy: 0.4450\n",
      "Epoch 12/25\n",
      "13/13 [==============================] - 1s 98ms/step - loss: 0.0738 - accuracy: 0.9837 - val_loss: 5.2431 - val_accuracy: 0.5450\n",
      "Epoch 13/25\n",
      "13/13 [==============================] - 1s 94ms/step - loss: 0.0789 - accuracy: 0.9775 - val_loss: 5.6816 - val_accuracy: 0.4700\n",
      "Epoch 14/25\n",
      "13/13 [==============================] - 1s 95ms/step - loss: 0.0829 - accuracy: 0.9737 - val_loss: 5.1521 - val_accuracy: 0.5350\n",
      "Epoch 15/25\n",
      "13/13 [==============================] - 1s 97ms/step - loss: 0.0356 - accuracy: 0.9912 - val_loss: 6.1389 - val_accuracy: 0.4500\n",
      "Epoch 16/25\n",
      "13/13 [==============================] - 1s 97ms/step - loss: 0.0288 - accuracy: 0.9937 - val_loss: 5.3944 - val_accuracy: 0.5000\n",
      "Epoch 17/25\n",
      "13/13 [==============================] - 1s 97ms/step - loss: 0.0337 - accuracy: 0.9900 - val_loss: 5.9341 - val_accuracy: 0.5000\n",
      "Epoch 18/25\n",
      "13/13 [==============================] - 1s 97ms/step - loss: 0.0190 - accuracy: 0.9925 - val_loss: 5.1797 - val_accuracy: 0.4950\n",
      "Epoch 19/25\n",
      "13/13 [==============================] - 1s 98ms/step - loss: 0.0140 - accuracy: 0.9962 - val_loss: 5.1875 - val_accuracy: 0.5200\n",
      "Epoch 20/25\n",
      "13/13 [==============================] - 1s 97ms/step - loss: 0.0119 - accuracy: 0.9975 - val_loss: 5.3222 - val_accuracy: 0.5000\n",
      "Epoch 21/25\n",
      "13/13 [==============================] - 1s 98ms/step - loss: 0.0103 - accuracy: 0.9987 - val_loss: 5.4554 - val_accuracy: 0.5100\n",
      "Epoch 22/25\n",
      "13/13 [==============================] - 1s 96ms/step - loss: 0.0053 - accuracy: 0.9987 - val_loss: 5.4118 - val_accuracy: 0.5300\n",
      "Epoch 23/25\n",
      "13/13 [==============================] - 1s 98ms/step - loss: 0.0046 - accuracy: 0.9987 - val_loss: 5.1500 - val_accuracy: 0.5200\n",
      "Epoch 24/25\n",
      "13/13 [==============================] - 1s 97ms/step - loss: 0.0127 - accuracy: 0.9987 - val_loss: 5.2921 - val_accuracy: 0.5300\n",
      "Epoch 25/25\n",
      "13/13 [==============================] - 1s 95ms/step - loss: 0.0016 - accuracy: 1.0000 - val_loss: 5.4493 - val_accuracy: 0.5250\n"
     ]
    }
   ],
   "source": [
    "# train model\n",
    "history = model.fit(X_train, y_train, validation_data=(X_test, y_test), batch_size=64, epochs=25)"
   ]
  },
  {
   "cell_type": "code",
   "execution_count": 77,
   "id": "787e275c",
   "metadata": {},
   "outputs": [
    {
     "name": "stdout",
     "output_type": "stream",
     "text": [
      "Evaluate on test data\n",
      "4/4 [==============================] - 0s 10ms/step - loss: 5.4493 - accuracy: 0.5250\n",
      "test loss, test acc: [5.449275016784668, 0.5249999761581421]\n"
     ]
    },
    {
     "data": {
      "image/png": "[encoded data removed]",
      "text/plain": [
       "<Figure size 432x288 with 1 Axes>"
      ]
     },
     "metadata": {
      "needs_background": "light"
     },
     "output_type": "display_data"
    }
   ],
   "source": [
    "plt.scatter([i+1 for i in range(25)],history.history['loss'])\n",
    "plt.scatter([i+1 for i in range(25)],history.history['val_loss'])\n",
    "plt.legend(['loss','val_loss'])\n",
    "# Evaluate the model on the test data using `evaluate`\n",
    "print(\"Evaluate on test data\")\n",
    "results = model.evaluate(X_test, y_test, batch_size=64)\n",
    "print(\"test loss, test acc:\", results)"
   ]
  },
  {
   "cell_type": "code",
   "execution_count": 78,
   "id": "3dfa9fb9",
   "metadata": {},
   "outputs": [
    {
     "name": "stdout",
     "output_type": "stream",
     "text": [
      "Generate predictions for tests\n",
      "7/7 [==============================] - 0s 8ms/step\n"
     ]
    }
   ],
   "source": [
    "# Generate predictions (probabilities -- the output of the last layer)\n",
    "# on new data using `predict`\n",
    "print(\"Generate predictions for tests\")\n",
    "predictions = model.predict(X_test)"
   ]
  },
  {
   "cell_type": "code",
   "execution_count": 79,
   "id": "646fcb99",
   "metadata": {},
   "outputs": [],
   "source": [
    "correct = [0 for genre in genres]\n",
    "pred_data = [[0 for g in genres] for genre in genres]\n",
    "pred_count = [[0 for g in genres] for genre in genres]\n",
    "genre_count = [0 for genre in genres]\n",
    "for i in range(predictions.shape[0]):\n",
    "    max_confidence = max(predictions[i])\n",
    "    pred = np.argmax(predictions[i])\n",
    "    actual = y_test[i]\n",
    "    \n",
    "    genre_count[actual] += 1\n",
    "    pred_count[actual][pred] += 1\n",
    "    pred_data[actual] += predictions[i]\n",
    "    \n",
    "    if pred == actual:\n",
    "        correct[actual] += 1\n",
    "#     print('Prediction:', genres[pred], '\\tActual:', genres[actual], '\\nConfidence:', max(predictions[i]),'\\n')\n",
    "\n",
    "pred_data = np.asarray(pred_data) / genre_count"
   ]
  },
  {
   "cell_type": "code",
   "execution_count": 80,
   "id": "bd87da54",
   "metadata": {},
   "outputs": [
    {
     "name": "stdout",
     "output_type": "stream",
     "text": [
      "blues :  33.33333333333333 % correct\n",
      "classical :  96.0 % correct\n",
      "country :  37.5 % correct\n",
      "disco :  36.36363636363637 % correct\n",
      "hiphop :  37.5 % correct\n",
      "jazz :  65.0 % correct\n",
      "metal :  94.44444444444444 % correct\n",
      "pop :  72.22222222222221 % correct\n",
      "reggae :  36.0 % correct\n",
      "rock :  10.526315789473683 % correct\n",
      "\n",
      "Total:  52.5 % correct\n"
     ]
    }
   ],
   "source": [
    "curr_genre = 0\n",
    "for c,g in zip(correct,genre_count):\n",
    "    print(genres[curr_genre], ': ', c / g * 100,'% correct')\n",
    "    curr_genre += 1\n",
    "\n",
    "print('\\nTotal: ', sum(correct) / sum(genre_count) * 100, '% correct')"
   ]
  },
  {
   "cell_type": "code",
   "execution_count": 81,
   "id": "08d7b6af",
   "metadata": {},
   "outputs": [],
   "source": [
    "# Bar graphs for genre-specific confidence levels\n",
    "# counter = 0\n",
    "# for dist in pred_data:\n",
    "#     plt.figure(counter, figsize=(8, 6))\n",
    "#     plt.bar(x=genres, height=dist, color='#0504aa', alpha=0.7, width=0.8)\n",
    "#     plt.grid(axis='y', alpha=0.75)\n",
    "#     plt.xlabel('Genres')\n",
    "#     plt.ylabel('Confidence')\n",
    "#     plt.title(genres[counter])\n",
    "#     counter += 1"
   ]
  },
  {
   "cell_type": "code",
   "execution_count": 82,
   "id": "38f2a831",
   "metadata": {},
   "outputs": [
    {
     "data": {
      "image/png": "[encoded data removed]",
      "text/plain": [
       "<Figure size 720x720 with 2 Axes>"
      ]
     },
     "metadata": {
      "needs_background": "light"
     },
     "output_type": "display_data"
    }
   ],
   "source": [
    "# Confusion matrix\n",
    "confusion_matrix = np.asarray(pred_count)\n",
    "# print(confusion_matrix)\n",
    "cm_display = metrics.ConfusionMatrixDisplay(confusion_matrix = confusion_matrix, display_labels = genres)\n",
    "fig, ax = plt.subplots(figsize=(10,10))\n",
    "cm_display.plot(ax = ax, cmap='Blues')\n",
    "plt.show()"
   ]
  },
  {
   "cell_type": "code",
   "execution_count": null,
   "id": "833dee80",
   "metadata": {},
   "outputs": [],
   "source": []
  }
 ],
 "metadata": {
  "kernelspec": {
   "display_name": "Python 3 (ipykernel)",
   "language": "python",
   "name": "python3"
  },
  "language_info": {
   "codemirror_mode": {
    "name": "ipython",
    "version": 3
   },
   "file_extension": ".py",
   "mimetype": "text/x-python",
   "name": "python",
   "nbconvert_exporter": "python",
   "pygments_lexer": "ipython3",
   "version": "3.10.1"
  }
 },
 "nbformat": 4,
 "nbformat_minor": 5
}
