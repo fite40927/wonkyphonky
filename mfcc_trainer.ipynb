{
 "cells": [
  {
   "cell_type": "code",
   "execution_count": 1,
   "id": "08611f4c",
   "metadata": {},
   "outputs": [],
   "source": [
    "import json\n",
    "import numpy as np\n",
    "from sklearn.model_selection import train_test_split\n",
    "import tensorflow.keras as keras\n",
    "\n",
    "# path to json file that stores MFCCs and genre labels for each processed segment\n",
    "DATA_PATH = \"mfcc_data_20s.json\"\n",
    "\n",
    "def load_data(data_path):\n",
    "    \"\"\"Loads training dataset from json file.\n",
    "\n",
    "        :param data_path (str): Path to json file containing data\n",
    "        :return X (ndarray): Inputs\n",
    "        :return y (ndarray): Targets\n",
    "    \"\"\"\n",
    "\n",
    "    with open(data_path, \"r\") as fp:\n",
    "        data = json.load(fp)\n",
    "\n",
    "    # convert lists to numpy arrays\n",
    "    X = np.array(data[\"mfccs\"])\n",
    "    y = np.array(data[\"labels\"])\n",
    "    genres = data[\"genres\"]\n",
    "\n",
    "    print(\"Data succesfully loaded!\")\n",
    "\n",
    "    return  X, y, genres"
   ]
  },
  {
   "cell_type": "code",
   "execution_count": 2,
   "id": "05997272",
   "metadata": {},
   "outputs": [
    {
     "name": "stdout",
     "output_type": "stream",
     "text": [
      "Data succesfully loaded!\n"
     ]
    }
   ],
   "source": [
    "# load data\n",
    "X, y, genres = load_data(DATA_PATH)"
   ]
  },
  {
   "cell_type": "code",
   "execution_count": 3,
   "id": "23e03ae8",
   "metadata": {},
   "outputs": [],
   "source": [
    "# create train/test split\n",
    "X_train, X_test, y_train, y_test = train_test_split(X, y, test_size=0.3)"
   ]
  },
  {
   "cell_type": "code",
   "execution_count": 4,
   "id": "f582d7d6",
   "metadata": {},
   "outputs": [
    {
     "name": "stdout",
     "output_type": "stream",
     "text": [
      "Model: \"sequential\"\n",
      "_________________________________________________________________\n",
      " Layer (type)                Output Shape              Param #   \n",
      "=================================================================\n",
      " flatten (Flatten)           (None, 17240)             0         \n",
      "                                                                 \n",
      " dense (Dense)               (None, 512)               8827392   \n",
      "                                                                 \n",
      " dense_1 (Dense)             (None, 256)               131328    \n",
      "                                                                 \n",
      " dense_2 (Dense)             (None, 64)                16448     \n",
      "                                                                 \n",
      " dense_3 (Dense)             (None, 10)                650       \n",
      "                                                                 \n",
      "=================================================================\n",
      "Total params: 8,975,818\n",
      "Trainable params: 8,975,818\n",
      "Non-trainable params: 0\n",
      "_________________________________________________________________\n"
     ]
    }
   ],
   "source": [
    "# build network topology\n",
    "model = keras.Sequential([\n",
    "\n",
    "    # input layer\n",
    "    keras.layers.Flatten(input_shape=(X.shape[1], X.shape[2])),\n",
    "\n",
    "    # 1st dense layer\n",
    "    keras.layers.Dense(512, activation='relu'),\n",
    "\n",
    "    # 2nd dense layer\n",
    "    keras.layers.Dense(256, activation='relu'),\n",
    "\n",
    "    # 3rd dense layer\n",
    "    keras.layers.Dense(64, activation='relu'),\n",
    "\n",
    "    # output layer\n",
    "    keras.layers.Dense(len(genres), activation='softmax')\n",
    "])\n",
    "\n",
    "# compile model\n",
    "optimiser = keras.optimizers.Adam(learning_rate=0.0001)\n",
    "model.compile(optimizer=optimiser,\n",
    "              loss='sparse_categorical_crossentropy',\n",
    "              metrics=['accuracy'])\n",
    "\n",
    "model.summary()"
   ]
  },
  {
   "cell_type": "code",
   "execution_count": null,
   "id": "008dbbd1",
   "metadata": {},
   "outputs": [
    {
     "name": "stdout",
     "output_type": "stream",
     "text": [
      "Epoch 1/50\n",
      "22/22 [==============================] - 3s 95ms/step - loss: 34.6969 - accuracy: 0.2275 - val_loss: 15.9691 - val_accuracy: 0.2600\n",
      "Epoch 2/50\n",
      "22/22 [==============================] - 2s 86ms/step - loss: 9.6708 - accuracy: 0.4192 - val_loss: 9.3555 - val_accuracy: 0.3633\n",
      "Epoch 3/50\n",
      "22/22 [==============================] - 2s 86ms/step - loss: 4.3829 - accuracy: 0.5737 - val_loss: 7.4022 - val_accuracy: 0.3900\n",
      "Epoch 4/50\n",
      "22/22 [==============================] - 2s 86ms/step - loss: 2.3482 - accuracy: 0.7353 - val_loss: 9.1727 - val_accuracy: 0.4233\n",
      "Epoch 5/50\n",
      "22/22 [==============================] - 2s 86ms/step - loss: 1.6166 - accuracy: 0.7811 - val_loss: 7.8180 - val_accuracy: 0.3933\n",
      "Epoch 6/50\n",
      "22/22 [==============================] - 2s 90ms/step - loss: 0.8820 - accuracy: 0.8383 - val_loss: 8.8597 - val_accuracy: 0.3700\n",
      "Epoch 7/50\n",
      "22/22 [==============================] - 2s 92ms/step - loss: 0.6479 - accuracy: 0.8770 - val_loss: 8.1465 - val_accuracy: 0.4200\n",
      "Epoch 8/50\n",
      "22/22 [==============================] - 2s 94ms/step - loss: 0.6157 - accuracy: 0.8870 - val_loss: 8.9472 - val_accuracy: 0.4400\n",
      "Epoch 9/50\n",
      "22/22 [==============================] - 2s 94ms/step - loss: 0.2958 - accuracy: 0.9371 - val_loss: 7.9211 - val_accuracy: 0.4767\n",
      "Epoch 10/50\n",
      "22/22 [==============================] - 2s 96ms/step - loss: 0.4899 - accuracy: 0.9142 - val_loss: 8.1189 - val_accuracy: 0.4367\n",
      "Epoch 11/50\n",
      "22/22 [==============================] - 2s 92ms/step - loss: 0.1684 - accuracy: 0.9542 - val_loss: 6.9403 - val_accuracy: 0.4633\n",
      "Epoch 12/50\n",
      "22/22 [==============================] - 2s 92ms/step - loss: 0.2239 - accuracy: 0.9571 - val_loss: 7.5940 - val_accuracy: 0.4200\n",
      "Epoch 13/50\n",
      "22/22 [==============================] - 2s 96ms/step - loss: 0.2319 - accuracy: 0.9585 - val_loss: 7.5713 - val_accuracy: 0.4533\n",
      "Epoch 14/50\n",
      "22/22 [==============================] - 2s 92ms/step - loss: 0.0644 - accuracy: 0.9771 - val_loss: 6.9772 - val_accuracy: 0.4733\n",
      "Epoch 15/50\n",
      "22/22 [==============================] - 2s 90ms/step - loss: 0.0178 - accuracy: 0.9957 - val_loss: 6.9342 - val_accuracy: 0.4333\n",
      "Epoch 16/50\n",
      "22/22 [==============================] - 2s 90ms/step - loss: 0.0268 - accuracy: 0.9943 - val_loss: 6.6465 - val_accuracy: 0.4667\n",
      "Epoch 17/50\n",
      "22/22 [==============================] - 2s 91ms/step - loss: 0.0050 - accuracy: 0.9986 - val_loss: 7.0353 - val_accuracy: 0.4767\n",
      "Epoch 18/50\n",
      "22/22 [==============================] - 2s 99ms/step - loss: 0.0233 - accuracy: 0.9971 - val_loss: 7.6011 - val_accuracy: 0.4500\n",
      "Epoch 19/50\n",
      "22/22 [==============================] - 2s 98ms/step - loss: 0.0109 - accuracy: 0.9971 - val_loss: 7.3338 - val_accuracy: 0.4500\n",
      "Epoch 20/50\n",
      "22/22 [==============================] - 2s 101ms/step - loss: 0.0979 - accuracy: 0.9800 - val_loss: 6.8225 - val_accuracy: 0.4867\n",
      "Epoch 21/50\n",
      "22/22 [==============================] - 3s 129ms/step - loss: 0.2655 - accuracy: 0.9614 - val_loss: 7.6606 - val_accuracy: 0.4800\n",
      "Epoch 22/50\n",
      "22/22 [==============================] - 2s 98ms/step - loss: 0.3547 - accuracy: 0.9399 - val_loss: 9.6799 - val_accuracy: 0.4333\n",
      "Epoch 23/50\n",
      "22/22 [==============================] - 2s 99ms/step - loss: 0.4491 - accuracy: 0.9371 - val_loss: 7.8421 - val_accuracy: 0.4367\n",
      "Epoch 24/50\n",
      "22/22 [==============================] - 2s 98ms/step - loss: 0.2146 - accuracy: 0.9542 - val_loss: 8.3317 - val_accuracy: 0.4433\n",
      "Epoch 25/50\n",
      "22/22 [==============================] - 2s 113ms/step - loss: 0.4222 - accuracy: 0.9413 - val_loss: 8.2024 - val_accuracy: 0.4967\n",
      "Epoch 26/50\n",
      "22/22 [==============================] - 2s 106ms/step - loss: 0.2115 - accuracy: 0.9614 - val_loss: 9.6257 - val_accuracy: 0.4333\n",
      "Epoch 27/50\n",
      "22/22 [==============================] - 2s 96ms/step - loss: 0.1761 - accuracy: 0.9671 - val_loss: 9.4063 - val_accuracy: 0.4400\n",
      "Epoch 28/50\n",
      "22/22 [==============================] - 2s 98ms/step - loss: 0.1714 - accuracy: 0.9599 - val_loss: 9.9468 - val_accuracy: 0.4233\n",
      "Epoch 29/50\n",
      "22/22 [==============================] - 2s 103ms/step - loss: 0.3818 - accuracy: 0.9514 - val_loss: 9.0870 - val_accuracy: 0.4533\n",
      "Epoch 30/50\n",
      "22/22 [==============================] - 2s 106ms/step - loss: 0.4968 - accuracy: 0.9270 - val_loss: 7.8020 - val_accuracy: 0.5033\n",
      "Epoch 31/50\n",
      "22/22 [==============================] - 2s 99ms/step - loss: 0.2548 - accuracy: 0.9514 - val_loss: 10.7699 - val_accuracy: 0.4233\n",
      "Epoch 32/50\n",
      "22/22 [==============================] - 2s 103ms/step - loss: 0.8511 - accuracy: 0.9127 - val_loss: 11.2289 - val_accuracy: 0.4700\n",
      "Epoch 33/50\n",
      "22/22 [==============================] - 2s 92ms/step - loss: 0.2091 - accuracy: 0.9657 - val_loss: 9.6260 - val_accuracy: 0.4200\n",
      "Epoch 34/50\n",
      "22/22 [==============================] - 2s 92ms/step - loss: 0.2296 - accuracy: 0.9599 - val_loss: 10.2284 - val_accuracy: 0.4833\n",
      "Epoch 35/50\n",
      "22/22 [==============================] - 2s 92ms/step - loss: 0.1859 - accuracy: 0.9542 - val_loss: 9.0229 - val_accuracy: 0.4800\n",
      "Epoch 36/50\n",
      "22/22 [==============================] - 2s 91ms/step - loss: 0.0433 - accuracy: 0.9871 - val_loss: 8.2505 - val_accuracy: 0.4500\n",
      "Epoch 37/50\n",
      "22/22 [==============================] - 2s 91ms/step - loss: 0.1404 - accuracy: 0.9771 - val_loss: 9.0199 - val_accuracy: 0.4833\n",
      "Epoch 38/50\n",
      "22/22 [==============================] - 2s 92ms/step - loss: 0.2287 - accuracy: 0.9671 - val_loss: 9.2989 - val_accuracy: 0.4800\n",
      "Epoch 39/50\n",
      "22/22 [==============================] - 2s 91ms/step - loss: 0.1860 - accuracy: 0.9728 - val_loss: 10.8702 - val_accuracy: 0.4567\n",
      "Epoch 40/50\n",
      "22/22 [==============================] - 2s 94ms/step - loss: 0.0889 - accuracy: 0.9857 - val_loss: 8.5935 - val_accuracy: 0.5133\n",
      "Epoch 41/50\n",
      "22/22 [==============================] - 3s 120ms/step - loss: 0.0675 - accuracy: 0.9857 - val_loss: 8.2597 - val_accuracy: 0.4867\n",
      "Epoch 42/50\n",
      "22/22 [==============================] - 2s 96ms/step - loss: 0.0799 - accuracy: 0.9843 - val_loss: 8.9890 - val_accuracy: 0.4700\n",
      "Epoch 43/50\n",
      "22/22 [==============================] - 2s 100ms/step - loss: 0.0153 - accuracy: 0.9971 - val_loss: 9.3506 - val_accuracy: 0.4733\n",
      "Epoch 44/50\n",
      "16/22 [====================>.........] - ETA: 0s - loss: 0.0084 - accuracy: 0.9961"
     ]
    }
   ],
   "source": [
    "# train model\n",
    "history = model.fit(X_train, y_train, validation_data=(X_test, y_test), batch_size=32, epochs=50)"
   ]
  },
  {
   "cell_type": "code",
   "execution_count": null,
   "id": "ffdd0bc8",
   "metadata": {},
   "outputs": [],
   "source": [
    "# Evaluate the model on the test data using `evaluate`\n",
    "print(\"Evaluate on test data\")\n",
    "results = model.evaluate(X_test, y_test, batch_size=64)\n",
    "print(\"test loss, test acc:\", results)"
   ]
  },
  {
   "cell_type": "code",
   "execution_count": null,
   "id": "3fdfa7a9",
   "metadata": {},
   "outputs": [],
   "source": [
    "# Generate predictions (probabilities -- the output of the last layer)\n",
    "# on new data using `predict`\n",
    "print(\"Generate predictions for tests\")\n",
    "predictions = model.predict(X_test)"
   ]
  },
  {
   "cell_type": "code",
   "execution_count": null,
   "id": "91f82c33",
   "metadata": {},
   "outputs": [],
   "source": [
    "correct = [0 for genre in genres]\n",
    "pred_data = [[0 for g in genres] for genre in genres]\n",
    "genre_count = [0 for genre in genres]\n",
    "for i in range(predictions.shape[0]):\n",
    "    max_confidence = max(predictions[i])\n",
    "    pred = np.argmax(predictions[i])\n",
    "    actual = y_test[i]\n",
    "    \n",
    "    genre_count[actual] += 1\n",
    "    pred_data[actual][pred] += 1\n",
    "    \n",
    "    if pred == actual:\n",
    "        correct[actual] += 1\n",
    "    print('Prediction:', genres[pred], '\\tActual:', genres[actual], '\\nConfidence:', max(predictions[i]),'\\n')"
   ]
  },
  {
   "cell_type": "code",
   "execution_count": null,
   "id": "5f807f7b",
   "metadata": {},
   "outputs": [],
   "source": [
    "curr_genre = 0\n",
    "for c,g in zip(correct,genre_count):\n",
    "    print(genres[curr_genre], ': ', c / g * 100,'% correct')\n",
    "    print('Prediction distribution: ', pred_data[curr_genre],'\\n')\n",
    "    curr_genre += 1\n",
    "\n",
    "print('\\nTotal: ', sum(correct) / sum(genre_count) * 100, '% correct')"
   ]
  },
  {
   "cell_type": "code",
   "execution_count": null,
   "id": "b192477d",
   "metadata": {},
   "outputs": [],
   "source": []
  }
 ],
 "metadata": {
  "kernelspec": {
   "display_name": "Python 3 (ipykernel)",
   "language": "python",
   "name": "python3"
  },
  "language_info": {
   "codemirror_mode": {
    "name": "ipython",
    "version": 3
   },
   "file_extension": ".py",
   "mimetype": "text/x-python",
   "name": "python",
   "nbconvert_exporter": "python",
   "pygments_lexer": "ipython3",
   "version": "3.10.1"
  }
 },
 "nbformat": 4,
 "nbformat_minor": 5
}
